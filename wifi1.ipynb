{
 "cells": [
  {
   "cell_type": "code",
   "execution_count": 10,
   "id": "d3b6619c",
   "metadata": {},
   "outputs": [],
   "source": [
    "import qrcode as qr"
   ]
  },
  {
   "cell_type": "code",
   "execution_count": 11,
   "id": "708038ed",
   "metadata": {},
   "outputs": [],
   "source": [
    "Image=qr.make(\"WIFI:S:D-Link73;T:-WPA2-Personal;P:QAZ@1234#;\")"
   ]
  },
  {
   "cell_type": "code",
   "execution_count": 12,
   "id": "4e1ef2e2",
   "metadata": {},
   "outputs": [],
   "source": [
    "Image.save(\"test1.png\")"
   ]
  },
  {
   "cell_type": "code",
   "execution_count": 16,
   "id": "e59ec9e6",
   "metadata": {},
   "outputs": [],
   "source": [
    "import wifi_qrcode"
   ]
  }
 ],
 "metadata": {
  "kernelspec": {
   "display_name": "Python 3",
   "language": "python",
   "name": "python3"
  },
  "language_info": {
   "codemirror_mode": {
    "name": "ipython",
    "version": 3
   },
   "file_extension": ".py",
   "mimetype": "text/x-python",
   "name": "python",
   "nbconvert_exporter": "python",
   "pygments_lexer": "ipython3",
   "version": "3.8.8"
  }
 },
 "nbformat": 4,
 "nbformat_minor": 5
}
